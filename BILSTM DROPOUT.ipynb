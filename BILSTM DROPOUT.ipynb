{
 "cells": [
  {
   "cell_type": "markdown",
   "id": "ab942aec",
   "metadata": {},
   "source": [
    "## Import"
   ]
  },
  {
   "cell_type": "code",
   "execution_count": 1,
   "id": "8468f4ae",
   "metadata": {},
   "outputs": [],
   "source": [
    "import numpy as np\n",
    "from keras.preprocessing.text import Tokenizer\n",
    "from keras.models import Sequential\n",
    "from keras.layers import Dense\n",
    "from keras.layers import LSTM\n",
    "from keras.layers import Bidirectional\n",
    "import pandas as pd\n",
    "import matplotlib.pyplot as plt\n",
    "from sklearn.preprocessing import MinMaxScaler\n",
    "from sklearn.preprocessing import LabelEncoder\n",
    "from sklearn.model_selection import train_test_split\n",
    "from sklearn.metrics import mean_squared_error\n",
    "from keras.layers import Dropout\n",
    "\n",
    "%matplotlib inline\n",
    "#%tensorflow_version 1.x\n",
    "#import tensorflow as tf\n",
    "#print(tf.__version__)\n"
   ]
  },
  {
   "cell_type": "markdown",
   "id": "3470399a",
   "metadata": {},
   "source": [
    "## load dataset"
   ]
  },
  {
   "cell_type": "code",
   "execution_count": 2,
   "id": "51f8628e",
   "metadata": {},
   "outputs": [],
   "source": [
    "dataset = pd.read_csv('SecundaIM.csv', sep =';', header=0, index_col=0)\n",
    "values = dataset.values"
   ]
  },
  {
   "cell_type": "markdown",
   "id": "678ff20a",
   "metadata": {},
   "source": [
    "## Plot pm2.5"
   ]
  },
  {
   "cell_type": "code",
   "execution_count": 3,
   "id": "a5279d95",
   "metadata": {},
   "outputs": [
    {
     "data": {
      "image/png": "[encoded data removed]",
      "text/plain": [
       "<Figure size 432x288 with 1 Axes>"
      ]
     },
     "metadata": {
      "needs_background": "light"
     },
     "output_type": "display_data"
    }
   ],
   "source": [
    "plt.plot(values[:,0])\n",
    "plt.ylabel(dataset.columns[0])\n",
    "plt.show()"
   ]
  },
  {
   "cell_type": "markdown",
   "id": "5426c6c6",
   "metadata": {},
   "source": [
    "## Data preparation\n",
    "\n",
    "We need a way to prepare the data for whatever way we would like to formulate the problem.\n",
    "\n",
    "In this case we are formulating it such that we take in 1 time step input (14 variables) and output 1 time step output (1 variable). In other words we are trying to solve the following question: given the pollution and weather conditions of the previous hour, can we predict the PM2.5 level for the next hour.\n",
    "\n",
    "The single variable we are outputing is the PM2.5 level. Note we also use PM2.5 level in our input.\n",
    "\n",
    "Credit for this code: https://machinelearningmastery.com/convert-time-series-supervised-learning-problem-python/"
   ]
  },
  {
   "cell_type": "code",
   "execution_count": 4,
   "id": "dd5c2777",
   "metadata": {},
   "outputs": [],
   "source": [
    "def series_to_supervised(data, n_in=1, n_out=1, dropnan=True):\n",
    "    n_vars = 1 if type(data) is list else data.shape[1]\n",
    "    df = pd.DataFrame(data)\n",
    "    cols, names = list(), list()\n",
    "    # input sequence (t-n, ... t-1)\n",
    "    for i in range(n_in, 0, -1):\n",
    "        cols.append(df.shift(i))\n",
    "        names += [('var%d(t-%d)' % (j+1, i)) for j in range(n_vars)]\n",
    "    # forecast sequence (t, t+1, ... t+n)\n",
    "    for i in range(0, n_out):\n",
    "        cols.append(df.shift(-i))\n",
    "        if i == 0:\n",
    "            names += [('var%d(t)' % (j+1)) for j in range(n_vars)]\n",
    "        else:\n",
    "            names += [('var%d(t+%d)' % (j+1, i)) for j in range(n_vars)]\n",
    "    # put it all together\n",
    "    agg = pd.concat(cols, axis=1)\n",
    "    agg.columns = names\n",
    "    # drop rows with NaN values\n",
    "    if dropnan:\n",
    "        agg.dropna(inplace=True)\n",
    "    return agg"
   ]
  },
  {
   "cell_type": "markdown",
   "id": "7143e863",
   "metadata": {},
   "source": [
    "## Get column names"
   ]
  },
  {
   "cell_type": "code",
   "execution_count": 5,
   "id": "bbfc14ab",
   "metadata": {},
   "outputs": [
    {
     "data": {
      "text/plain": [
       "Index(['PM2.5', 'PM10', 'SO2', 'NO2', 'NO', 'NOx', 'O3', 'CO', 'Amb Wspeed',\n",
       "       'Amb WDirection', 'Temperature', 'Amb RelHum', 'Amb Pressure', 'Rain'],\n",
       "      dtype='object')"
      ]
     },
     "execution_count": 5,
     "metadata": {},
     "output_type": "execute_result"
    }
   ],
   "source": [
    "dataset.columns"
   ]
  },
  {
   "cell_type": "markdown",
   "id": "08215071",
   "metadata": {},
   "source": [
    "##Actually perform the data preparation\n",
    "\n",
    "We scale the values between 0 and 1.\n",
    "\n",
    "The code which converts the data into the suitable way we want, in this case, will produce 14 output variables. In our case we only want to predict PM2.5, that is why we drop the other collumns from the dataframe.\n",
    "\n",
    "Credit for this code: https://machinelearningmastery.com/multivariate-time-series-forecasting-lstms-keras/"
   ]
  },
  {
   "cell_type": "code",
   "execution_count": 6,
   "id": "68094b1e",
   "metadata": {},
   "outputs": [],
   "source": [
    "# ensure all data is float\n",
    "values = values.astype('float32')\n",
    "\n",
    "# normalize features\n",
    "scaler = MinMaxScaler(feature_range=(0, 1))\n",
    "scaled = scaler.fit_transform(values)\n",
    "\n",
    "# frame as supervised learning\n",
    "reframed = series_to_supervised(scaled, 1, 1)\n",
    "\n",
    "# drop columns we don't want to predict\n",
    "# We drop these because we are only interested in predicting for a single variable (pollution).\n",
    "# If we don't drop, then we will be predicting for all the variables too!\n",
    "reframed.drop(reframed.columns[[15, 16, 17, 18, 19, 20, 21, 22, 23, 24, 25, 26, 27,]], axis=1, inplace=True)\n",
    "values = reframed.values"
   ]
  },
  {
   "cell_type": "markdown",
   "id": "c64db2e9",
   "metadata": {},
   "source": [
    "\n",
    "## View the data"
   ]
  },
  {
   "cell_type": "code",
   "execution_count": 7,
   "id": "44d39eda",
   "metadata": {},
   "outputs": [
    {
     "data": {
      "text/html": [
       "<div>\n",
       "<style scoped>\n",
       "    .dataframe tbody tr th:only-of-type {\n",
       "        vertical-align: middle;\n",
       "    }\n",
       "\n",
       "    .dataframe tbody tr th {\n",
       "        vertical-align: top;\n",
       "    }\n",
       "\n",
       "    .dataframe thead th {\n",
       "        text-align: right;\n",
       "    }\n",
       "</style>\n",
       "<table border=\"1\" class=\"dataframe\">\n",
       "  <thead>\n",
       "    <tr style=\"text-align: right;\">\n",
       "      <th></th>\n",
       "      <th>var1(t-1)</th>\n",
       "      <th>var2(t-1)</th>\n",
       "      <th>var3(t-1)</th>\n",
       "      <th>var4(t-1)</th>\n",
       "      <th>var5(t-1)</th>\n",
       "      <th>var6(t-1)</th>\n",
       "      <th>var7(t-1)</th>\n",
       "      <th>var8(t-1)</th>\n",
       "      <th>var9(t-1)</th>\n",
       "      <th>var10(t-1)</th>\n",
       "      <th>var11(t-1)</th>\n",
       "      <th>var12(t-1)</th>\n",
       "      <th>var13(t-1)</th>\n",
       "      <th>var14(t-1)</th>\n",
       "      <th>var1(t)</th>\n",
       "    </tr>\n",
       "  </thead>\n",
       "  <tbody>\n",
       "    <tr>\n",
       "      <th>1</th>\n",
       "      <td>0.009341</td>\n",
       "      <td>0.002724</td>\n",
       "      <td>0.011100</td>\n",
       "      <td>0.002253</td>\n",
       "      <td>0.002730</td>\n",
       "      <td>0.005174</td>\n",
       "      <td>0.068915</td>\n",
       "      <td>0.000008</td>\n",
       "      <td>0.091213</td>\n",
       "      <td>0.590294</td>\n",
       "      <td>0.638847</td>\n",
       "      <td>0.963577</td>\n",
       "      <td>0.964391</td>\n",
       "      <td>0.0</td>\n",
       "      <td>0.004773</td>\n",
       "    </tr>\n",
       "    <tr>\n",
       "      <th>2</th>\n",
       "      <td>0.004773</td>\n",
       "      <td>0.001281</td>\n",
       "      <td>0.011264</td>\n",
       "      <td>0.002089</td>\n",
       "      <td>0.002375</td>\n",
       "      <td>0.005479</td>\n",
       "      <td>0.083653</td>\n",
       "      <td>0.000006</td>\n",
       "      <td>0.133054</td>\n",
       "      <td>0.354899</td>\n",
       "      <td>0.632566</td>\n",
       "      <td>0.963577</td>\n",
       "      <td>0.964130</td>\n",
       "      <td>0.0</td>\n",
       "      <td>0.010864</td>\n",
       "    </tr>\n",
       "    <tr>\n",
       "      <th>3</th>\n",
       "      <td>0.010864</td>\n",
       "      <td>0.002736</td>\n",
       "      <td>0.010219</td>\n",
       "      <td>0.009678</td>\n",
       "      <td>0.003573</td>\n",
       "      <td>0.016519</td>\n",
       "      <td>0.110260</td>\n",
       "      <td>0.000008</td>\n",
       "      <td>0.251883</td>\n",
       "      <td>0.194311</td>\n",
       "      <td>0.631369</td>\n",
       "      <td>0.914916</td>\n",
       "      <td>0.962036</td>\n",
       "      <td>0.0</td>\n",
       "      <td>0.008960</td>\n",
       "    </tr>\n",
       "    <tr>\n",
       "      <th>4</th>\n",
       "      <td>0.008960</td>\n",
       "      <td>0.002235</td>\n",
       "      <td>0.014398</td>\n",
       "      <td>0.008230</td>\n",
       "      <td>0.003173</td>\n",
       "      <td>0.020939</td>\n",
       "      <td>0.075195</td>\n",
       "      <td>0.000006</td>\n",
       "      <td>0.264435</td>\n",
       "      <td>0.164366</td>\n",
       "      <td>0.634360</td>\n",
       "      <td>0.853536</td>\n",
       "      <td>0.960557</td>\n",
       "      <td>0.0</td>\n",
       "      <td>0.006618</td>\n",
       "    </tr>\n",
       "    <tr>\n",
       "      <th>5</th>\n",
       "      <td>0.006618</td>\n",
       "      <td>0.001772</td>\n",
       "      <td>0.012472</td>\n",
       "      <td>0.007440</td>\n",
       "      <td>0.003262</td>\n",
       "      <td>0.014299</td>\n",
       "      <td>0.095053</td>\n",
       "      <td>0.000004</td>\n",
       "      <td>0.188285</td>\n",
       "      <td>0.205617</td>\n",
       "      <td>0.641240</td>\n",
       "      <td>0.785604</td>\n",
       "      <td>0.959420</td>\n",
       "      <td>0.0</td>\n",
       "      <td>0.008882</td>\n",
       "    </tr>\n",
       "  </tbody>\n",
       "</table>\n",
       "</div>"
      ],
      "text/plain": [
       "   var1(t-1)  var2(t-1)  var3(t-1)  var4(t-1)  var5(t-1)  var6(t-1)  \\\n",
       "1   0.009341   0.002724   0.011100   0.002253   0.002730   0.005174   \n",
       "2   0.004773   0.001281   0.011264   0.002089   0.002375   0.005479   \n",
       "3   0.010864   0.002736   0.010219   0.009678   0.003573   0.016519   \n",
       "4   0.008960   0.002235   0.014398   0.008230   0.003173   0.020939   \n",
       "5   0.006618   0.001772   0.012472   0.007440   0.003262   0.014299   \n",
       "\n",
       "   var7(t-1)  var8(t-1)  var9(t-1)  var10(t-1)  var11(t-1)  var12(t-1)  \\\n",
       "1   0.068915   0.000008   0.091213    0.590294    0.638847    0.963577   \n",
       "2   0.083653   0.000006   0.133054    0.354899    0.632566    0.963577   \n",
       "3   0.110260   0.000008   0.251883    0.194311    0.631369    0.914916   \n",
       "4   0.075195   0.000006   0.264435    0.164366    0.634360    0.853536   \n",
       "5   0.095053   0.000004   0.188285    0.205617    0.641240    0.785604   \n",
       "\n",
       "   var13(t-1)  var14(t-1)   var1(t)  \n",
       "1    0.964391         0.0  0.004773  \n",
       "2    0.964130         0.0  0.010864  \n",
       "3    0.962036         0.0  0.008960  \n",
       "4    0.960557         0.0  0.006618  \n",
       "5    0.959420         0.0  0.008882  "
      ]
     },
     "execution_count": 7,
     "metadata": {},
     "output_type": "execute_result"
    }
   ],
   "source": [
    "reframed.head()"
   ]
  },
  {
   "cell_type": "markdown",
   "id": "5d157f81",
   "metadata": {},
   "source": [
    "## Create X and Y variables"
   ]
  },
  {
   "cell_type": "code",
   "execution_count": 8,
   "id": "cf58ef07",
   "metadata": {},
   "outputs": [
    {
     "data": {
      "text/plain": [
       "(87646, 15)"
      ]
     },
     "execution_count": 8,
     "metadata": {},
     "output_type": "execute_result"
    }
   ],
   "source": [
    "values.shape"
   ]
  },
  {
   "cell_type": "code",
   "execution_count": 9,
   "id": "ca1e4b00",
   "metadata": {},
   "outputs": [],
   "source": [
    "X = values[:,:-1]"
   ]
  },
  {
   "cell_type": "code",
   "execution_count": 10,
   "id": "6788de1c",
   "metadata": {},
   "outputs": [],
   "source": [
    "Y = values[:,-1]"
   ]
  },
  {
   "cell_type": "markdown",
   "id": "89422383",
   "metadata": {},
   "source": [
    "## Check the shapes"
   ]
  },
  {
   "cell_type": "code",
   "execution_count": 11,
   "id": "b733065b",
   "metadata": {},
   "outputs": [
    {
     "data": {
      "text/plain": [
       "(87646, 14)"
      ]
     },
     "execution_count": 11,
     "metadata": {},
     "output_type": "execute_result"
    }
   ],
   "source": [
    "X.shape"
   ]
  },
  {
   "cell_type": "code",
   "execution_count": 12,
   "id": "37c2a082",
   "metadata": {},
   "outputs": [
    {
     "data": {
      "text/plain": [
       "(87646,)"
      ]
     },
     "execution_count": 12,
     "metadata": {},
     "output_type": "execute_result"
    }
   ],
   "source": [
    "Y.shape"
   ]
  },
  {
   "cell_type": "markdown",
   "id": "b8101527",
   "metadata": {},
   "source": [
    "## Reshaping\n",
    "\n",
    "The format that Keras expects is [batches, timesteps, features]"
   ]
  },
  {
   "cell_type": "code",
   "execution_count": 13,
   "id": "9e57a19a",
   "metadata": {},
   "outputs": [],
   "source": [
    "X = X.reshape(X.shape[0],1,X.shape[1])"
   ]
  },
  {
   "cell_type": "code",
   "execution_count": 14,
   "id": "d9f99572",
   "metadata": {},
   "outputs": [
    {
     "data": {
      "text/plain": [
       "(87646, 1, 14)"
      ]
     },
     "execution_count": 14,
     "metadata": {},
     "output_type": "execute_result"
    }
   ],
   "source": [
    "X.shape"
   ]
  },
  {
   "cell_type": "markdown",
   "id": "07631602",
   "metadata": {},
   "source": [
    "## Training, validation and testing split"
   ]
  },
  {
   "cell_type": "code",
   "execution_count": 15,
   "id": "754e3096",
   "metadata": {},
   "outputs": [],
   "source": [
    "X_train, X_test, Y_train, Y_test = train_test_split(X, Y, test_size=0.20, random_state=42)\n",
    "X_train, X_val, Y_train, Y_val = train_test_split(X_train, Y_train, test_size=0.20, random_state=42)"
   ]
  },
  {
   "cell_type": "markdown",
   "id": "d8eee9cc",
   "metadata": {},
   "source": [
    "## Check the shape"
   ]
  },
  {
   "cell_type": "code",
   "execution_count": 16,
   "id": "0f4a829a",
   "metadata": {},
   "outputs": [
    {
     "name": "stdout",
     "output_type": "stream",
     "text": [
      "X_train: (56092, 1, 14)\n",
      "Y_train: (56092,)\n",
      "\n",
      "X_val: (14024, 1, 14)\n",
      "Y_val: (14024,)\n",
      "\n",
      "X_test: (17530, 1, 14)\n",
      "Y_test: (17530,)\n"
     ]
    }
   ],
   "source": [
    "print ('X_train:',X_train.shape)\n",
    "print ('Y_train:',Y_train.shape)\n",
    "print ()\n",
    "print ('X_val:',X_val.shape)\n",
    "print ('Y_val:',Y_val.shape)\n",
    "print ()\n",
    "print ('X_test:',X_test.shape)\n",
    "print ('Y_test:',Y_test.shape)"
   ]
  },
  {
   "cell_type": "markdown",
   "id": "7e33607c",
   "metadata": {},
   "source": [
    "## Define a model"
   ]
  },
  {
   "cell_type": "code",
   "execution_count": 17,
   "id": "a8120938",
   "metadata": {},
   "outputs": [],
   "source": [
    "model = Sequential()\n",
    "model.add(Bidirectional(LSTM(28, input_shape=(1, 14))))\n",
    "model.add(Dropout(0.2))\n",
    "model.add(Dense(28, activation = 'relu'))\n",
    "model.add(Dropout(0.2))\n",
    "model.add(Dense(1, activation = 'sigmoid'))\n",
    "model.compile(loss='mae', optimizer='adam', metrics = ['accuracy'])"
   ]
  },
  {
   "cell_type": "markdown",
   "id": "8eb74ec4",
   "metadata": {},
   "source": [
    "## Print summary"
   ]
  },
  {
   "cell_type": "code",
   "execution_count": 18,
   "id": "3bbad727",
   "metadata": {},
   "outputs": [],
   "source": [
    "#model.summary()"
   ]
  },
  {
   "cell_type": "markdown",
   "id": "e02a2da6",
   "metadata": {},
   "source": [
    "## Training"
   ]
  },
  {
   "cell_type": "code",
   "execution_count": 19,
   "id": "1873ce48",
   "metadata": {},
   "outputs": [
    {
     "name": "stdout",
     "output_type": "stream",
     "text": [
      "Epoch 1/30\n",
      "4007/4007 [==============================] - 24s 5ms/step - loss: 0.0263 - accuracy: 8.7356e-04 - val_loss: 0.0134 - val_accuracy: 8.5568e-04\n",
      "Epoch 2/30\n",
      "4007/4007 [==============================] - 18s 4ms/step - loss: 0.0162 - accuracy: 8.7356e-04 - val_loss: 0.0128 - val_accuracy: 8.5568e-04\n",
      "Epoch 3/30\n",
      "4007/4007 [==============================] - 19s 5ms/step - loss: 0.0139 - accuracy: 8.7356e-04 - val_loss: 0.0106 - val_accuracy: 8.5568e-04\n",
      "Epoch 4/30\n",
      "4007/4007 [==============================] - 19s 5ms/step - loss: 0.0126 - accuracy: 8.7356e-04 - val_loss: 0.0104 - val_accuracy: 8.5568e-04\n",
      "Epoch 5/30\n",
      "4007/4007 [==============================] - 19s 5ms/step - loss: 0.0119 - accuracy: 8.7356e-04 - val_loss: 0.0103 - val_accuracy: 8.5568e-04\n",
      "Epoch 6/30\n",
      "4007/4007 [==============================] - 19s 5ms/step - loss: 0.0115 - accuracy: 8.7356e-04 - val_loss: 0.0103 - val_accuracy: 8.5568e-04\n",
      "Epoch 7/30\n",
      "4007/4007 [==============================] - 19s 5ms/step - loss: 0.0113 - accuracy: 8.7356e-04 - val_loss: 0.0099 - val_accuracy: 8.5568e-04\n",
      "Epoch 8/30\n",
      "4007/4007 [==============================] - 19s 5ms/step - loss: 0.0111 - accuracy: 8.7356e-04 - val_loss: 0.0100 - val_accuracy: 8.5568e-04\n",
      "Epoch 9/30\n",
      "4007/4007 [==============================] - 19s 5ms/step - loss: 0.0110 - accuracy: 8.7356e-04 - val_loss: 0.0103 - val_accuracy: 8.5568e-04\n",
      "Epoch 10/30\n",
      "4007/4007 [==============================] - 19s 5ms/step - loss: 0.0110 - accuracy: 8.7356e-04 - val_loss: 0.0102 - val_accuracy: 8.5568e-04\n",
      "Epoch 11/30\n",
      "4007/4007 [==============================] - 19s 5ms/step - loss: 0.0109 - accuracy: 8.7356e-04 - val_loss: 0.0099 - val_accuracy: 8.5568e-04\n",
      "Epoch 12/30\n",
      "4007/4007 [==============================] - 19s 5ms/step - loss: 0.0109 - accuracy: 8.7356e-04 - val_loss: 0.0098 - val_accuracy: 8.5568e-04\n",
      "Epoch 13/30\n",
      "4007/4007 [==============================] - 19s 5ms/step - loss: 0.0108 - accuracy: 8.7356e-04 - val_loss: 0.0098 - val_accuracy: 8.5568e-04\n",
      "Epoch 14/30\n",
      "4007/4007 [==============================] - 19s 5ms/step - loss: 0.0108 - accuracy: 8.7356e-04 - val_loss: 0.0098 - val_accuracy: 8.5568e-04\n",
      "Epoch 15/30\n",
      "4007/4007 [==============================] - 19s 5ms/step - loss: 0.0108 - accuracy: 8.7356e-04 - val_loss: 0.0098 - val_accuracy: 8.5568e-04\n",
      "Epoch 16/30\n",
      "4007/4007 [==============================] - 19s 5ms/step - loss: 0.0108 - accuracy: 8.7356e-04 - val_loss: 0.0098 - val_accuracy: 8.5568e-04\n",
      "Epoch 17/30\n",
      "4007/4007 [==============================] - 19s 5ms/step - loss: 0.0107 - accuracy: 8.7356e-04 - val_loss: 0.0099 - val_accuracy: 8.5568e-04\n",
      "Epoch 18/30\n",
      "4007/4007 [==============================] - 19s 5ms/step - loss: 0.0108 - accuracy: 8.7356e-04 - val_loss: 0.0099 - val_accuracy: 8.5568e-04\n",
      "Epoch 19/30\n",
      "4007/4007 [==============================] - 19s 5ms/step - loss: 0.0108 - accuracy: 8.7356e-04 - val_loss: 0.0098 - val_accuracy: 8.5568e-04\n",
      "Epoch 20/30\n",
      "4007/4007 [==============================] - 19s 5ms/step - loss: 0.0107 - accuracy: 8.7356e-04 - val_loss: 0.0100 - val_accuracy: 8.5568e-04\n",
      "Epoch 21/30\n",
      "4007/4007 [==============================] - 19s 5ms/step - loss: 0.0107 - accuracy: 8.7356e-04 - val_loss: 0.0099 - val_accuracy: 8.5568e-04\n",
      "Epoch 22/30\n",
      "4007/4007 [==============================] - 19s 5ms/step - loss: 0.0107 - accuracy: 8.7356e-04 - val_loss: 0.0097 - val_accuracy: 8.5568e-04\n",
      "Epoch 23/30\n",
      "4007/4007 [==============================] - 19s 5ms/step - loss: 0.0107 - accuracy: 8.7356e-04 - val_loss: 0.0097 - val_accuracy: 8.5568e-04\n",
      "Epoch 24/30\n",
      "4007/4007 [==============================] - 19s 5ms/step - loss: 0.0107 - accuracy: 8.7356e-04 - val_loss: 0.0099 - val_accuracy: 8.5568e-04\n",
      "Epoch 25/30\n",
      "4007/4007 [==============================] - 19s 5ms/step - loss: 0.0107 - accuracy: 8.7356e-04 - val_loss: 0.0097 - val_accuracy: 8.5568e-04\n",
      "Epoch 26/30\n",
      "4007/4007 [==============================] - 19s 5ms/step - loss: 0.0107 - accuracy: 8.7356e-04 - val_loss: 0.0098 - val_accuracy: 8.5568e-04\n",
      "Epoch 27/30\n",
      "4007/4007 [==============================] - 19s 5ms/step - loss: 0.0107 - accuracy: 8.7356e-04 - val_loss: 0.0099 - val_accuracy: 8.5568e-04\n",
      "Epoch 28/30\n",
      "4007/4007 [==============================] - 19s 5ms/step - loss: 0.0107 - accuracy: 8.7356e-04 - val_loss: 0.0098 - val_accuracy: 8.5568e-04\n",
      "Epoch 29/30\n",
      "4007/4007 [==============================] - 19s 5ms/step - loss: 0.0107 - accuracy: 8.7356e-04 - val_loss: 0.0098 - val_accuracy: 8.5568e-04\n",
      "Epoch 30/30\n",
      "4007/4007 [==============================] - 19s 5ms/step - loss: 0.0106 - accuracy: 8.7356e-04 - val_loss: 0.0100 - val_accuracy: 8.5568e-04\n"
     ]
    }
   ],
   "source": [
    "history = model.fit(X_train, Y_train, validation_data=(X_val, Y_val), epochs=30, batch_size=14, verbose=1)"
   ]
  },
  {
   "cell_type": "markdown",
   "id": "4ae0b17c",
   "metadata": {},
   "source": [
    "## Plot the performance"
   ]
  },
  {
   "cell_type": "code",
   "execution_count": 20,
   "id": "70f24700",
   "metadata": {},
   "outputs": [
    {
     "data": {
      "image/png": "[encoded data removed]",
      "text/plain": [
       "<Figure size 432x288 with 1 Axes>"
      ]
     },
     "metadata": {
      "needs_background": "light"
     },
     "output_type": "display_data"
    }
   ],
   "source": [
    "plt.plot(history.history['loss'], label='train')\n",
    "plt.plot(history.history['val_loss'], label='validation')\n",
    "plt.legend()\n",
    "plt.show()"
   ]
  },
  {
   "cell_type": "markdown",
   "id": "9e8f8bba",
   "metadata": {},
   "source": [
    "## Predict"
   ]
  },
  {
   "cell_type": "code",
   "execution_count": 21,
   "id": "bf2a8a86",
   "metadata": {},
   "outputs": [
    {
     "name": "stdout",
     "output_type": "stream",
     "text": [
      "548/548 [==============================] - 2s 2ms/step\n"
     ]
    }
   ],
   "source": [
    "prediction = model.predict(X_test)"
   ]
  },
  {
   "cell_type": "code",
   "execution_count": 22,
   "id": "acd2a756",
   "metadata": {},
   "outputs": [
    {
     "data": {
      "text/plain": [
       "0.0010117232"
      ]
     },
     "execution_count": 22,
     "metadata": {},
     "output_type": "execute_result"
    }
   ],
   "source": [
    "mean_squared_error(Y_test, prediction)"
   ]
  },
  {
   "cell_type": "code",
   "execution_count": 23,
   "id": "9e199eda",
   "metadata": {},
   "outputs": [
    {
     "data": {
      "text/plain": [
       "0.010461317"
      ]
     },
     "execution_count": 23,
     "metadata": {},
     "output_type": "execute_result"
    }
   ],
   "source": [
    "from sklearn.metrics import mean_absolute_error\n",
    "mean_absolute_error(Y_test, prediction)"
   ]
  },
  {
   "cell_type": "code",
   "execution_count": 24,
   "id": "0ca89299",
   "metadata": {},
   "outputs": [
    {
     "name": "stdout",
     "output_type": "stream",
     "text": [
      "accuracy testing = 7\n"
     ]
    }
   ],
   "source": [
    "print('accuracy testing = {}'.format(np.sum(prediction==Y_test)) )"
   ]
  },
  {
   "cell_type": "markdown",
   "id": "0f59a485",
   "metadata": {},
   "source": [
    "## Compare prediction and testing data"
   ]
  },
  {
   "cell_type": "code",
   "execution_count": 25,
   "id": "f721486e",
   "metadata": {},
   "outputs": [
    {
     "data": {
      "image/png": "[encoded data removed]",
      "text/plain": [
       "<Figure size 432x288 with 1 Axes>"
      ]
     },
     "metadata": {
      "needs_background": "light"
     },
     "output_type": "display_data"
    }
   ],
   "source": [
    "plt.plot(Y_test[0:24], color='blue', label = 'Observed')\n",
    "plt.plot(prediction[0:24], color='red', label = 'Predicted')\n",
    "plt.ylabel('PM2.5', fontname=\"Times New Roman\", size=20,fontweight=\"bold\")\n",
    "plt.xlabel('Time(Hrs)', fontname=\"Times New Roman\", size=20,fontweight=\"bold\")\n",
    "plt.title('Secunda 0.2 DROPOUT BiLSTM', fontname=\"Times New Roman\", size=28,fontweight=\"bold\")\n",
    "legend_properties = {'weight':'bold'}\n",
    "plt.legend(prop=legend_properties)\n",
    "plt.show()"
   ]
  },
  {
   "cell_type": "code",
   "execution_count": null,
   "id": "e22ec422",
   "metadata": {},
   "outputs": [],
   "source": []
  }
 ],
 "metadata": {
  "kernelspec": {
   "display_name": "Python 3 (ipykernel)",
   "language": "python",
   "name": "python3"
  },
  "language_info": {
   "codemirror_mode": {
    "name": "ipython",
    "version": 3
   },
   "file_extension": ".py",
   "mimetype": "text/x-python",
   "name": "python",
   "nbconvert_exporter": "python",
   "pygments_lexer": "ipython3",
   "version": "3.9.7"
  }
 },
 "nbformat": 4,
 "nbformat_minor": 5
}
