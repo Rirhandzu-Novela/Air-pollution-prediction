{
 "cells": [
  {
   "cell_type": "markdown",
   "id": "ec1d9733",
   "metadata": {},
   "source": [
    "# Import"
   ]
  },
  {
   "cell_type": "code",
   "execution_count": 1,
   "id": "8468f4ae",
   "metadata": {},
   "outputs": [
    {
     "name": "stdout",
     "output_type": "stream",
     "text": [
      "2.9.1\n"
     ]
    }
   ],
   "source": [
    "import numpy as np\n",
    "import pandas as pd\n",
    "from math import sqrt \n",
    "import matplotlib.pyplot as plt \n",
    "from keras.layers import Dense\n",
    "from keras.layers import LSTM\n",
    "from keras.layers import Flatten\n",
    "from keras.layers import TimeDistributed\n",
    "from keras.models import Sequential\n",
    "from keras.layers.convolutional import Conv1D\n",
    "from keras.layers.convolutional import MaxPooling1D\n",
    "from sklearn.metrics import r2_score\n",
    "from sklearn.metrics import mean_squared_error\n",
    "from sklearn.metrics import mean_absolute_error\n",
    "from sklearn.preprocessing import MinMaxScaler\n",
    "from sklearn.model_selection import train_test_split\n",
    "from keras.regularizers import l1\n",
    "from keras.regularizers import l2\n",
    "from keras.regularizers import L1L2\n",
    "\n",
    "%matplotlib inline\n",
    "#%tensorflow_version 1.x\n",
    "import tensorflow as tf\n",
    "print(tf.__version__)\n"
   ]
  },
  {
   "cell_type": "markdown",
   "id": "b66744f0",
   "metadata": {},
   "source": [
    "## load dataset"
   ]
  },
  {
   "cell_type": "code",
   "execution_count": 2,
   "id": "51f8628e",
   "metadata": {},
   "outputs": [],
   "source": [
    "dataset = pd.read_csv('ErmeloIMSO2CNN.csv', sep =';', header=0, index_col=0)\n",
    "values = dataset.values"
   ]
  },
  {
   "cell_type": "markdown",
   "id": "cd04efa7",
   "metadata": {},
   "source": [
    "## Plot pm2.5"
   ]
  },
  {
   "cell_type": "code",
   "execution_count": 3,
   "id": "a5279d95",
   "metadata": {},
   "outputs": [
    {
     "data": {
      "image/png": "[encoded data removed]",
      "text/plain": [
       "<Figure size 432x288 with 1 Axes>"
      ]
     },
     "metadata": {
      "needs_background": "light"
     },
     "output_type": "display_data"
    }
   ],
   "source": [
    "plt.plot(values[:,0])\n",
    "plt.ylabel(dataset.columns[0])\n",
    "plt.show()"
   ]
  },
  {
   "cell_type": "markdown",
   "id": "abb7c362",
   "metadata": {},
   "source": [
    "## Data preparation\n",
    "\n",
    "We need a way to prepare the data for whatever way we would like to formulate the problem.\n",
    "\n",
    "In this case we are formulating it such that we take in 1 time step input (14 variables) and output 1 time step output (1 variable). In other words we are trying to solve the following question: given the pollution and weather conditions of the previous hour, can we predict the PM2.5 level for the next hour.\n",
    "\n",
    "The single variable we are outputing is the PM2.5 level. Note we also use PM2.5 level in our input.\n",
    "\n",
    "Credit for this code: https://machinelearningmastery.com/convert-time-series-supervised-learning-problem-python/"
   ]
  },
  {
   "cell_type": "code",
   "execution_count": 4,
   "id": "dd5c2777",
   "metadata": {},
   "outputs": [],
   "source": [
    "def series_to_supervised(data, n_in=1, n_out=1, dropnan=True):\n",
    "    n_vars = 1 if type(data) is list else data.shape[1]\n",
    "    df = pd.DataFrame(data)\n",
    "    cols, names = list(), list()\n",
    "    # input sequence (t-n, ... t-1)\n",
    "    for i in range(n_in, 0, -1):\n",
    "        cols.append(df.shift(i))\n",
    "        names += [('var%d(t-%d)' % (j+1, i)) for j in range(n_vars)]\n",
    "    # forecast sequence (t, t+1, ... t+n)\n",
    "    for i in range(0, n_out):\n",
    "        cols.append(df.shift(-i))\n",
    "        if i == 0:\n",
    "            names += [('var%d(t)' % (j+1)) for j in range(n_vars)]\n",
    "        else:\n",
    "            names += [('var%d(t+%d)' % (j+1, i)) for j in range(n_vars)]\n",
    "    # put it all together\n",
    "    agg = pd.concat(cols, axis=1)\n",
    "    agg.columns = names\n",
    "    # drop rows with NaN values\n",
    "    if dropnan:\n",
    "        agg.dropna(inplace=True)\n",
    "    return agg"
   ]
  },
  {
   "cell_type": "markdown",
   "id": "c262f072",
   "metadata": {},
   "source": [
    "## Get column names"
   ]
  },
  {
   "cell_type": "code",
   "execution_count": 5,
   "id": "bbfc14ab",
   "metadata": {},
   "outputs": [
    {
     "data": {
      "text/plain": [
       "Index(['SO2', 'PM2.5', 'PM10', 'NO2', 'NO', 'NOx', 'O3', 'CO', 'Amb Wspeed',\n",
       "       'Amb WDirection', 'Temperature', 'Amb RelHum', 'Amb Pressure', 'Rain',\n",
       "       'HSO2', 'HCO', 'HAmb Wspeed', 'HAmb WDirection', 'MPM2.5', 'MNO',\n",
       "       'MNOx', 'MO3', 'MCO', 'MAmb WDirection', 'SPM2.5', 'SPM10', 'SNO2',\n",
       "       'SNO', 'SNOx', 'SCO', 'SAmb Wspeed', 'SAmb WDirection', 'SAmb RelHum'],\n",
       "      dtype='object')"
      ]
     },
     "execution_count": 5,
     "metadata": {},
     "output_type": "execute_result"
    }
   ],
   "source": [
    "dataset.columns"
   ]
  },
  {
   "cell_type": "markdown",
   "id": "5a628c1d",
   "metadata": {},
   "source": [
    "##Actually perform the data preparation\n",
    "\n",
    "We scale the values between 0 and 1.\n",
    "\n",
    "The code which converts the data into the suitable way we want, in this case, will produce 14 output variables. In our case we only want to predict PM2.5, that is why we drop the other collumns from the dataframe.\n",
    "\n",
    "Credit for this code: https://machinelearningmastery.com/multivariate-time-series-forecasting-lstms-keras/"
   ]
  },
  {
   "cell_type": "code",
   "execution_count": 6,
   "id": "68094b1e",
   "metadata": {},
   "outputs": [],
   "source": [
    "# ensure all data is float\n",
    "values = values.astype('float32')\n",
    "\n",
    "# normalize features\n",
    "scaler = MinMaxScaler(feature_range=(0, 1))\n",
    "scaled = scaler.fit_transform(values)\n",
    "\n",
    "# frame as supervised learning\n",
    "reframed = series_to_supervised(scaled, 1, 1)\n",
    "\n",
    "# drop columns we don't want to predict\n",
    "# We drop these because we are only interested in predicting for a single variable (pollution).\n",
    "# If we don't drop, then we will be predicting for all the variables too!\n",
    "reframed.drop(reframed.columns[[34, 35, 36, 37, 38, 39, 40, 41, 42, 43, 44, 45, 46, 47, 48, 49, 50, 51, 52, 53, 54, 55, 56, 57, 58, 59, 60, 61, 62, 63, 64, 65]], axis=1, inplace=True)\n",
    "values = reframed.values"
   ]
  },
  {
   "cell_type": "markdown",
   "id": "8ee9522d",
   "metadata": {},
   "source": [
    "## View the data"
   ]
  },
  {
   "cell_type": "code",
   "execution_count": 7,
   "id": "44d39eda",
   "metadata": {},
   "outputs": [
    {
     "data": {
      "text/html": [
       "<div>\n",
       "<style scoped>\n",
       "    .dataframe tbody tr th:only-of-type {\n",
       "        vertical-align: middle;\n",
       "    }\n",
       "\n",
       "    .dataframe tbody tr th {\n",
       "        vertical-align: top;\n",
       "    }\n",
       "\n",
       "    .dataframe thead th {\n",
       "        text-align: right;\n",
       "    }\n",
       "</style>\n",
       "<table border=\"1\" class=\"dataframe\">\n",
       "  <thead>\n",
       "    <tr style=\"text-align: right;\">\n",
       "      <th></th>\n",
       "      <th>var1(t-1)</th>\n",
       "      <th>var2(t-1)</th>\n",
       "      <th>var3(t-1)</th>\n",
       "      <th>var4(t-1)</th>\n",
       "      <th>var5(t-1)</th>\n",
       "      <th>var6(t-1)</th>\n",
       "      <th>var7(t-1)</th>\n",
       "      <th>var8(t-1)</th>\n",
       "      <th>var9(t-1)</th>\n",
       "      <th>var10(t-1)</th>\n",
       "      <th>...</th>\n",
       "      <th>var25(t-1)</th>\n",
       "      <th>var26(t-1)</th>\n",
       "      <th>var27(t-1)</th>\n",
       "      <th>var28(t-1)</th>\n",
       "      <th>var29(t-1)</th>\n",
       "      <th>var30(t-1)</th>\n",
       "      <th>var31(t-1)</th>\n",
       "      <th>var32(t-1)</th>\n",
       "      <th>var33(t-1)</th>\n",
       "      <th>var1(t)</th>\n",
       "    </tr>\n",
       "  </thead>\n",
       "  <tbody>\n",
       "    <tr>\n",
       "      <th>1</th>\n",
       "      <td>0.003583</td>\n",
       "      <td>0.019423</td>\n",
       "      <td>0.005034</td>\n",
       "      <td>0.010956</td>\n",
       "      <td>0.005431</td>\n",
       "      <td>0.009637</td>\n",
       "      <td>0.142904</td>\n",
       "      <td>0.000004</td>\n",
       "      <td>0.150541</td>\n",
       "      <td>0.228985</td>\n",
       "      <td>...</td>\n",
       "      <td>0.009341</td>\n",
       "      <td>0.002724</td>\n",
       "      <td>0.002253</td>\n",
       "      <td>0.002730</td>\n",
       "      <td>0.005174</td>\n",
       "      <td>0.000008</td>\n",
       "      <td>0.091213</td>\n",
       "      <td>0.590294</td>\n",
       "      <td>0.963577</td>\n",
       "      <td>0.004744</td>\n",
       "    </tr>\n",
       "    <tr>\n",
       "      <th>2</th>\n",
       "      <td>0.004744</td>\n",
       "      <td>0.027505</td>\n",
       "      <td>0.007658</td>\n",
       "      <td>0.015037</td>\n",
       "      <td>0.005335</td>\n",
       "      <td>0.012864</td>\n",
       "      <td>0.135217</td>\n",
       "      <td>0.000006</td>\n",
       "      <td>0.128581</td>\n",
       "      <td>0.398161</td>\n",
       "      <td>...</td>\n",
       "      <td>0.004773</td>\n",
       "      <td>0.001281</td>\n",
       "      <td>0.002089</td>\n",
       "      <td>0.002375</td>\n",
       "      <td>0.005479</td>\n",
       "      <td>0.000006</td>\n",
       "      <td>0.133054</td>\n",
       "      <td>0.354899</td>\n",
       "      <td>0.963577</td>\n",
       "      <td>0.005535</td>\n",
       "    </tr>\n",
       "    <tr>\n",
       "      <th>3</th>\n",
       "      <td>0.005535</td>\n",
       "      <td>0.023662</td>\n",
       "      <td>0.006101</td>\n",
       "      <td>0.005703</td>\n",
       "      <td>0.002812</td>\n",
       "      <td>0.007601</td>\n",
       "      <td>0.138276</td>\n",
       "      <td>0.000003</td>\n",
       "      <td>0.074793</td>\n",
       "      <td>0.598172</td>\n",
       "      <td>...</td>\n",
       "      <td>0.010864</td>\n",
       "      <td>0.002736</td>\n",
       "      <td>0.009678</td>\n",
       "      <td>0.003573</td>\n",
       "      <td>0.016519</td>\n",
       "      <td>0.000008</td>\n",
       "      <td>0.251883</td>\n",
       "      <td>0.194311</td>\n",
       "      <td>0.914916</td>\n",
       "      <td>0.020460</td>\n",
       "    </tr>\n",
       "    <tr>\n",
       "      <th>4</th>\n",
       "      <td>0.020460</td>\n",
       "      <td>0.092874</td>\n",
       "      <td>0.027671</td>\n",
       "      <td>0.012631</td>\n",
       "      <td>0.003340</td>\n",
       "      <td>0.010070</td>\n",
       "      <td>0.141217</td>\n",
       "      <td>0.000006</td>\n",
       "      <td>0.090388</td>\n",
       "      <td>0.704511</td>\n",
       "      <td>...</td>\n",
       "      <td>0.008960</td>\n",
       "      <td>0.002235</td>\n",
       "      <td>0.008230</td>\n",
       "      <td>0.003173</td>\n",
       "      <td>0.020939</td>\n",
       "      <td>0.000006</td>\n",
       "      <td>0.264435</td>\n",
       "      <td>0.164366</td>\n",
       "      <td>0.853536</td>\n",
       "      <td>0.033063</td>\n",
       "    </tr>\n",
       "    <tr>\n",
       "      <th>5</th>\n",
       "      <td>0.033063</td>\n",
       "      <td>0.073537</td>\n",
       "      <td>0.023256</td>\n",
       "      <td>0.015037</td>\n",
       "      <td>0.003677</td>\n",
       "      <td>0.014704</td>\n",
       "      <td>0.162786</td>\n",
       "      <td>0.000007</td>\n",
       "      <td>0.132400</td>\n",
       "      <td>0.810517</td>\n",
       "      <td>...</td>\n",
       "      <td>0.006618</td>\n",
       "      <td>0.001772</td>\n",
       "      <td>0.007440</td>\n",
       "      <td>0.003262</td>\n",
       "      <td>0.014299</td>\n",
       "      <td>0.000004</td>\n",
       "      <td>0.188285</td>\n",
       "      <td>0.205617</td>\n",
       "      <td>0.785604</td>\n",
       "      <td>0.011614</td>\n",
       "    </tr>\n",
       "  </tbody>\n",
       "</table>\n",
       "<p>5 rows × 34 columns</p>\n",
       "</div>"
      ],
      "text/plain": [
       "   var1(t-1)  var2(t-1)  var3(t-1)  var4(t-1)  var5(t-1)  var6(t-1)  \\\n",
       "1   0.003583   0.019423   0.005034   0.010956   0.005431   0.009637   \n",
       "2   0.004744   0.027505   0.007658   0.015037   0.005335   0.012864   \n",
       "3   0.005535   0.023662   0.006101   0.005703   0.002812   0.007601   \n",
       "4   0.020460   0.092874   0.027671   0.012631   0.003340   0.010070   \n",
       "5   0.033063   0.073537   0.023256   0.015037   0.003677   0.014704   \n",
       "\n",
       "   var7(t-1)  var8(t-1)  var9(t-1)  var10(t-1)  ...  var25(t-1)  var26(t-1)  \\\n",
       "1   0.142904   0.000004   0.150541    0.228985  ...    0.009341    0.002724   \n",
       "2   0.135217   0.000006   0.128581    0.398161  ...    0.004773    0.001281   \n",
       "3   0.138276   0.000003   0.074793    0.598172  ...    0.010864    0.002736   \n",
       "4   0.141217   0.000006   0.090388    0.704511  ...    0.008960    0.002235   \n",
       "5   0.162786   0.000007   0.132400    0.810517  ...    0.006618    0.001772   \n",
       "\n",
       "   var27(t-1)  var28(t-1)  var29(t-1)  var30(t-1)  var31(t-1)  var32(t-1)  \\\n",
       "1    0.002253    0.002730    0.005174    0.000008    0.091213    0.590294   \n",
       "2    0.002089    0.002375    0.005479    0.000006    0.133054    0.354899   \n",
       "3    0.009678    0.003573    0.016519    0.000008    0.251883    0.194311   \n",
       "4    0.008230    0.003173    0.020939    0.000006    0.264435    0.164366   \n",
       "5    0.007440    0.003262    0.014299    0.000004    0.188285    0.205617   \n",
       "\n",
       "   var33(t-1)   var1(t)  \n",
       "1    0.963577  0.004744  \n",
       "2    0.963577  0.005535  \n",
       "3    0.914916  0.020460  \n",
       "4    0.853536  0.033063  \n",
       "5    0.785604  0.011614  \n",
       "\n",
       "[5 rows x 34 columns]"
      ]
     },
     "execution_count": 7,
     "metadata": {},
     "output_type": "execute_result"
    }
   ],
   "source": [
    "reframed.head()"
   ]
  },
  {
   "cell_type": "markdown",
   "id": "f3e625c4",
   "metadata": {},
   "source": [
    "## Create X and Y variables"
   ]
  },
  {
   "cell_type": "code",
   "execution_count": 8,
   "id": "cf58ef07",
   "metadata": {},
   "outputs": [
    {
     "data": {
      "text/plain": [
       "(87646, 34)"
      ]
     },
     "execution_count": 8,
     "metadata": {},
     "output_type": "execute_result"
    }
   ],
   "source": [
    "values.shape"
   ]
  },
  {
   "cell_type": "code",
   "execution_count": 9,
   "id": "ca1e4b00",
   "metadata": {},
   "outputs": [],
   "source": [
    "X = values[:,:-1]"
   ]
  },
  {
   "cell_type": "code",
   "execution_count": 10,
   "id": "6788de1c",
   "metadata": {},
   "outputs": [],
   "source": [
    "Y = values[:,-1]"
   ]
  },
  {
   "cell_type": "markdown",
   "id": "c8d52993",
   "metadata": {},
   "source": [
    "## Check the shapes"
   ]
  },
  {
   "cell_type": "code",
   "execution_count": 11,
   "id": "b733065b",
   "metadata": {},
   "outputs": [
    {
     "data": {
      "text/plain": [
       "(87646, 33)"
      ]
     },
     "execution_count": 11,
     "metadata": {},
     "output_type": "execute_result"
    }
   ],
   "source": [
    "X.shape"
   ]
  },
  {
   "cell_type": "code",
   "execution_count": 12,
   "id": "37c2a082",
   "metadata": {},
   "outputs": [
    {
     "data": {
      "text/plain": [
       "(87646,)"
      ]
     },
     "execution_count": 12,
     "metadata": {},
     "output_type": "execute_result"
    }
   ],
   "source": [
    "Y.shape"
   ]
  },
  {
   "cell_type": "markdown",
   "id": "bd4541a1",
   "metadata": {},
   "source": [
    "## Reshaping\n",
    "\n",
    "reshape from [samples, timesteps] into [samples, subsequences, timesteps, features]"
   ]
  },
  {
   "cell_type": "code",
   "execution_count": 13,
   "id": "9e57a19a",
   "metadata": {},
   "outputs": [],
   "source": [
    "X = X.reshape(X.shape[0],1,1,X.shape[1])"
   ]
  },
  {
   "cell_type": "code",
   "execution_count": 14,
   "id": "d9f99572",
   "metadata": {},
   "outputs": [
    {
     "data": {
      "text/plain": [
       "(87646, 1, 1, 33)"
      ]
     },
     "execution_count": 14,
     "metadata": {},
     "output_type": "execute_result"
    }
   ],
   "source": [
    "X.shape"
   ]
  },
  {
   "cell_type": "markdown",
   "id": "9a1b9489",
   "metadata": {},
   "source": [
    "## Training, validation and testing split"
   ]
  },
  {
   "cell_type": "code",
   "execution_count": 15,
   "id": "754e3096",
   "metadata": {},
   "outputs": [],
   "source": [
    "X_train, X_test, Y_train, Y_test = train_test_split(X, Y, test_size=0.20, random_state=42)\n",
    "X_train, X_val, Y_train, Y_val = train_test_split(X_train, Y_train, test_size=0.20, random_state=42)"
   ]
  },
  {
   "cell_type": "markdown",
   "id": "36c7c079",
   "metadata": {},
   "source": [
    "## Check the shape"
   ]
  },
  {
   "cell_type": "code",
   "execution_count": 16,
   "id": "0f4a829a",
   "metadata": {},
   "outputs": [
    {
     "name": "stdout",
     "output_type": "stream",
     "text": [
      "X_train: (56092, 1, 1, 33)\n",
      "Y_train: (56092,)\n",
      "\n",
      "X_val: (14024, 1, 1, 33)\n",
      "Y_val: (14024,)\n",
      "\n",
      "X_test: (17530, 1, 1, 33)\n",
      "Y_test: (17530,)\n"
     ]
    }
   ],
   "source": [
    "print ('X_train:',X_train.shape)\n",
    "print ('Y_train:',Y_train.shape)\n",
    "print ()\n",
    "print ('X_val:',X_val.shape)\n",
    "print ('Y_val:',Y_val.shape)\n",
    "print ()\n",
    "print ('X_test:',X_test.shape)\n",
    "print ('Y_test:',Y_test.shape)"
   ]
  },
  {
   "cell_type": "markdown",
   "id": "fdb0fac1",
   "metadata": {},
   "source": [
    "## Define a model\n",
    "Credit for this code: https://machinelearningmastery.com/how-to-develop-lstm-models-for-time-series-forecasting/"
   ]
  },
  {
   "cell_type": "code",
   "execution_count": 17,
   "id": "a8120938",
   "metadata": {},
   "outputs": [],
   "source": [
    "model = Sequential()\n",
    "model.add(TimeDistributed(Conv1D(filters=256, kernel_size=1, activation='relu'), input_shape=(None, 1, 33)))\n",
    "model.add(TimeDistributed(MaxPooling1D(pool_size=1)))\n",
    "model.add(TimeDistributed(Flatten()))\n",
    "model.add(LSTM(56, input_shape=(1, 33)))\n",
    "model.add(Dense(56,kernel_regularizer = L1L2(l1 = 0.00001, l2 = 0.00001), bias_regularizer = L1L2(l1 = 0.00001, l2 = 0.00001), activation=\"relu\"))\n",
    "model.add(Dense(56,kernel_regularizer = L1L2(l1 = 0.00001, l2 = 0.00001), bias_regularizer = L1L2(l1 = 0.00001, l2 = 0.00001), activation=\"relu\"))\n",
    "model.add(Dense(56,kernel_regularizer = L1L2(l1 = 0.00001, l2 = 0.00001), bias_regularizer = L1L2(l1 = 0.00001, l2 = 0.00001), activation=\"relu\"))\n",
    "model.add(Dense(56,kernel_regularizer = L1L2(l1 = 0.00001, l2 = 0.00001), bias_regularizer = L1L2(l1 = 0.00001, l2 = 0.00001), activation=\"relu\"))\n",
    "model.add(Dense(1, activation = 'sigmoid'))\n",
    "model.compile(loss='mae', optimizer='adam')"
   ]
  },
  {
   "cell_type": "markdown",
   "id": "9989b1c3",
   "metadata": {},
   "source": [
    "## Print summary"
   ]
  },
  {
   "cell_type": "code",
   "execution_count": 18,
   "id": "3bbad727",
   "metadata": {},
   "outputs": [
    {
     "name": "stdout",
     "output_type": "stream",
     "text": [
      "Model: \"sequential\"\n",
      "_________________________________________________________________\n",
      " Layer (type)                Output Shape              Param #   \n",
      "=================================================================\n",
      " time_distributed (TimeDistr  (None, None, 1, 256)     8704      \n",
      " ibuted)                                                         \n",
      "                                                                 \n",
      " time_distributed_1 (TimeDis  (None, None, 1, 256)     0         \n",
      " tributed)                                                       \n",
      "                                                                 \n",
      " time_distributed_2 (TimeDis  (None, None, 256)        0         \n",
      " tributed)                                                       \n",
      "                                                                 \n",
      " lstm (LSTM)                 (None, 56)                70112     \n",
      "                                                                 \n",
      " dense (Dense)               (None, 56)                3192      \n",
      "                                                                 \n",
      " dense_1 (Dense)             (None, 56)                3192      \n",
      "                                                                 \n",
      " dense_2 (Dense)             (None, 56)                3192      \n",
      "                                                                 \n",
      " dense_3 (Dense)             (None, 56)                3192      \n",
      "                                                                 \n",
      " dense_4 (Dense)             (None, 1)                 57        \n",
      "                                                                 \n",
      "=================================================================\n",
      "Total params: 91,641\n",
      "Trainable params: 91,641\n",
      "Non-trainable params: 0\n",
      "_________________________________________________________________\n"
     ]
    }
   ],
   "source": [
    "model.summary()"
   ]
  },
  {
   "cell_type": "markdown",
   "id": "5028cba3",
   "metadata": {},
   "source": [
    "## Training"
   ]
  },
  {
   "cell_type": "code",
   "execution_count": 19,
   "id": "1873ce48",
   "metadata": {},
   "outputs": [
    {
     "name": "stdout",
     "output_type": "stream",
     "text": [
      "Epoch 1/40\n",
      "1753/1753 [==============================] - 26s 11ms/step - loss: 0.0239 - val_loss: 0.0128\n",
      "Epoch 2/40\n",
      "1753/1753 [==============================] - 18s 10ms/step - loss: 0.0122 - val_loss: 0.0110\n",
      "Epoch 3/40\n",
      "1753/1753 [==============================] - 18s 10ms/step - loss: 0.0111 - val_loss: 0.0106\n",
      "Epoch 4/40\n",
      "1753/1753 [==============================] - 18s 10ms/step - loss: 0.0106 - val_loss: 0.0102\n",
      "Epoch 5/40\n",
      "1753/1753 [==============================] - 18s 10ms/step - loss: 0.0103 - val_loss: 0.0101\n",
      "Epoch 6/40\n",
      "1753/1753 [==============================] - 18s 10ms/step - loss: 0.0102 - val_loss: 0.0101\n",
      "Epoch 7/40\n",
      "1753/1753 [==============================] - 18s 10ms/step - loss: 0.0101 - val_loss: 0.0119\n",
      "Epoch 8/40\n",
      "1753/1753 [==============================] - 19s 11ms/step - loss: 0.0100 - val_loss: 0.0097\n",
      "Epoch 9/40\n",
      "1753/1753 [==============================] - 19s 11ms/step - loss: 0.0098 - val_loss: 0.0102\n",
      "Epoch 10/40\n",
      "1753/1753 [==============================] - 21s 12ms/step - loss: 0.0097 - val_loss: 0.0095\n",
      "Epoch 11/40\n",
      "1753/1753 [==============================] - 20s 11ms/step - loss: 0.0097 - val_loss: 0.0096\n",
      "Epoch 12/40\n",
      "1753/1753 [==============================] - 20s 11ms/step - loss: 0.0096 - val_loss: 0.0095\n",
      "Epoch 13/40\n",
      "1753/1753 [==============================] - 19s 11ms/step - loss: 0.0096 - val_loss: 0.0098\n",
      "Epoch 14/40\n",
      "1753/1753 [==============================] - 20s 12ms/step - loss: 0.0095 - val_loss: 0.0093\n",
      "Epoch 15/40\n",
      "1753/1753 [==============================] - 19s 11ms/step - loss: 0.0095 - val_loss: 0.0095\n",
      "Epoch 16/40\n",
      "1753/1753 [==============================] - 20s 11ms/step - loss: 0.0094 - val_loss: 0.0095\n",
      "Epoch 17/40\n",
      "1753/1753 [==============================] - 20s 12ms/step - loss: 0.0094 - val_loss: 0.0093\n",
      "Epoch 18/40\n",
      "1753/1753 [==============================] - 20s 11ms/step - loss: 0.0094 - val_loss: 0.0093\n",
      "Epoch 19/40\n",
      "1753/1753 [==============================] - 21s 12ms/step - loss: 0.0093 - val_loss: 0.0098\n",
      "Epoch 20/40\n",
      "1753/1753 [==============================] - 20s 12ms/step - loss: 0.0093 - val_loss: 0.0095\n",
      "Epoch 21/40\n",
      "1753/1753 [==============================] - 20s 11ms/step - loss: 0.0093 - val_loss: 0.0093\n",
      "Epoch 22/40\n",
      "1753/1753 [==============================] - 21s 12ms/step - loss: 0.0093 - val_loss: 0.0094\n",
      "Epoch 23/40\n",
      "1753/1753 [==============================] - 20s 11ms/step - loss: 0.0093 - val_loss: 0.0093\n",
      "Epoch 24/40\n",
      "1753/1753 [==============================] - 20s 11ms/step - loss: 0.0092 - val_loss: 0.0093\n",
      "Epoch 25/40\n",
      "1753/1753 [==============================] - 20s 11ms/step - loss: 0.0092 - val_loss: 0.0093\n",
      "Epoch 26/40\n",
      "1753/1753 [==============================] - 20s 12ms/step - loss: 0.0092 - val_loss: 0.0094\n",
      "Epoch 27/40\n",
      "1753/1753 [==============================] - 19s 11ms/step - loss: 0.0091 - val_loss: 0.0092\n",
      "Epoch 28/40\n",
      "1753/1753 [==============================] - 19s 11ms/step - loss: 0.0091 - val_loss: 0.0092\n",
      "Epoch 29/40\n",
      "1753/1753 [==============================] - 18s 11ms/step - loss: 0.0091 - val_loss: 0.0094\n",
      "Epoch 30/40\n",
      "1753/1753 [==============================] - 19s 11ms/step - loss: 0.0091 - val_loss: 0.0093\n",
      "Epoch 31/40\n",
      "1753/1753 [==============================] - 18s 11ms/step - loss: 0.0091 - val_loss: 0.0093\n",
      "Epoch 32/40\n",
      "1753/1753 [==============================] - 19s 11ms/step - loss: 0.0090 - val_loss: 0.0092\n",
      "Epoch 33/40\n",
      "1753/1753 [==============================] - 19s 11ms/step - loss: 0.0090 - val_loss: 0.0094\n",
      "Epoch 34/40\n",
      "1753/1753 [==============================] - 19s 11ms/step - loss: 0.0090 - val_loss: 0.0094\n",
      "Epoch 35/40\n",
      "1753/1753 [==============================] - 19s 11ms/step - loss: 0.0090 - val_loss: 0.0092\n",
      "Epoch 36/40\n",
      "1753/1753 [==============================] - 19s 11ms/step - loss: 0.0090 - val_loss: 0.0092\n",
      "Epoch 37/40\n",
      "1753/1753 [==============================] - 18s 10ms/step - loss: 0.0090 - val_loss: 0.0092\n",
      "Epoch 38/40\n",
      "1753/1753 [==============================] - 19s 11ms/step - loss: 0.0089 - val_loss: 0.0092\n",
      "Epoch 39/40\n",
      "1753/1753 [==============================] - 19s 11ms/step - loss: 0.0089 - val_loss: 0.0092\n",
      "Epoch 40/40\n",
      "1753/1753 [==============================] - 19s 11ms/step - loss: 0.0089 - val_loss: 0.0093\n"
     ]
    }
   ],
   "source": [
    "history = model.fit(X_train, Y_train, validation_data=(X_val, Y_val), epochs=40, batch_size=32, verbose=1)"
   ]
  },
  {
   "cell_type": "markdown",
   "id": "4ea2cf67",
   "metadata": {},
   "source": [
    "## Plot the performance"
   ]
  },
  {
   "cell_type": "code",
   "execution_count": null,
   "id": "70f24700",
   "metadata": {},
   "outputs": [],
   "source": [
    "plt.plot(history.history['loss'], label='train')\n",
    "plt.plot(history.history['val_loss'], label='validation')\n",
    "plt.ylabel('LOSS', fontname=\"Times New Roman\", size=20,fontweight=\"bold\")\n",
    "plt.xlabel('Epochs', fontname=\"Times New Roman\", size=20,fontweight=\"bold\")\n",
    "plt.title('Loss over epochs', fontname=\"Times New Roman\", size=28,fontweight=\"bold\")\n",
    "legend_properties = {'weight':'bold'}\n",
    "plt.legend()\n",
    "plt.show()"
   ]
  },
  {
   "cell_type": "markdown",
   "id": "a2cc8acd",
   "metadata": {},
   "source": [
    "## Predict"
   ]
  },
  {
   "cell_type": "code",
   "execution_count": null,
   "id": "bf2a8a86",
   "metadata": {},
   "outputs": [],
   "source": [
    "prediction = model.predict(X_test)"
   ]
  },
  {
   "cell_type": "code",
   "execution_count": null,
   "id": "acaae5cc",
   "metadata": {},
   "outputs": [],
   "source": [
    "mean_absolute_error(Y_test, prediction)"
   ]
  },
  {
   "cell_type": "code",
   "execution_count": null,
   "id": "d1144337",
   "metadata": {},
   "outputs": [],
   "source": [
    "mean_squared_error(Y_test, prediction)"
   ]
  },
  {
   "cell_type": "code",
   "execution_count": null,
   "id": "96dab236",
   "metadata": {},
   "outputs": [],
   "source": [
    "rmse = sqrt(mean_squared_error(Y_test, prediction))\n",
    "print(rmse)"
   ]
  },
  {
   "cell_type": "code",
   "execution_count": null,
   "id": "7cbb0c79",
   "metadata": {},
   "outputs": [],
   "source": [
    "r2_score(Y_test, prediction)"
   ]
  },
  {
   "cell_type": "code",
   "execution_count": null,
   "id": "c84d50d5",
   "metadata": {},
   "outputs": [],
   "source": [
    "print('accuracy testing = {}'.format(np.sum(prediction==Y_test)) )"
   ]
  },
  {
   "cell_type": "markdown",
   "id": "da65206b",
   "metadata": {},
   "source": [
    "## Compare prediction and testing data"
   ]
  },
  {
   "cell_type": "code",
   "execution_count": null,
   "id": "f721486e",
   "metadata": {},
   "outputs": [],
   "source": [
    "plt.plot(Y_test[0:48], color='blue', label = 'Observed')\n",
    "plt.plot(prediction[0:48], color='red', label = 'Predicted')\n",
    "plt.ylabel('SO2', fontname=\"Times New Roman\", size=20,fontweight=\"bold\")\n",
    "plt.xlabel('Time(Hrs)', fontname=\"Times New Roman\", size=20,fontweight=\"bold\")\n",
    "plt.title('eMalahleni MICNNLSTM', fontname=\"Times New Roman\", size=28,fontweight=\"bold\")\n",
    "legend_properties = {'weight':'bold'}\n",
    "plt.legend(prop=legend_properties)\n",
    "plt.show()"
   ]
  },
  {
   "cell_type": "markdown",
   "id": "d89ab4d2",
   "metadata": {},
   "source": [
    "# Forecasting MAE"
   ]
  },
  {
   "cell_type": "code",
   "execution_count": null,
   "id": "8244d8e9",
   "metadata": {},
   "outputs": [],
   "source": [
    "mean_absolute_error(Y_test[1:6], prediction[1:6])"
   ]
  },
  {
   "cell_type": "code",
   "execution_count": null,
   "id": "39b9cbaa",
   "metadata": {},
   "outputs": [],
   "source": [
    "mean_absolute_error(Y_test[1:12], prediction[1:12])"
   ]
  },
  {
   "cell_type": "code",
   "execution_count": null,
   "id": "4a93b0b6",
   "metadata": {},
   "outputs": [],
   "source": [
    "mean_absolute_error(Y_test[1:18], prediction[1:18])"
   ]
  },
  {
   "cell_type": "code",
   "execution_count": null,
   "id": "f14d3ca2",
   "metadata": {},
   "outputs": [],
   "source": [
    "mean_absolute_error(Y_test[1:24], prediction[1:24])"
   ]
  },
  {
   "cell_type": "code",
   "execution_count": null,
   "id": "57b1c433",
   "metadata": {},
   "outputs": [],
   "source": [
    "mean_absolute_error(Y_test[1:36], prediction[1:36])"
   ]
  },
  {
   "cell_type": "code",
   "execution_count": null,
   "id": "cc896d1e",
   "metadata": {},
   "outputs": [],
   "source": [
    "mean_absolute_error(Y_test[1:48], prediction[1:48])"
   ]
  },
  {
   "cell_type": "markdown",
   "id": "ebc6efa6",
   "metadata": {},
   "source": [
    "# # Forecasting RMSE"
   ]
  },
  {
   "cell_type": "code",
   "execution_count": null,
   "id": "e22ec422",
   "metadata": {},
   "outputs": [],
   "source": [
    "rmse = sqrt(mean_squared_error(Y_test[1:6], prediction[1:6]))\n",
    "print(rmse)"
   ]
  },
  {
   "cell_type": "code",
   "execution_count": null,
   "id": "e7a5caf3",
   "metadata": {},
   "outputs": [],
   "source": [
    "rmse = sqrt(mean_squared_error(Y_test[1:12], prediction[1:12]))\n",
    "print(rmse)"
   ]
  },
  {
   "cell_type": "code",
   "execution_count": null,
   "id": "1321995d",
   "metadata": {},
   "outputs": [],
   "source": [
    "rmse = sqrt(mean_squared_error(Y_test[1:18], prediction[1:18]))\n",
    "print(rmse)"
   ]
  },
  {
   "cell_type": "code",
   "execution_count": null,
   "id": "b060464a",
   "metadata": {},
   "outputs": [],
   "source": [
    "rmse = sqrt(mean_squared_error(Y_test[1:24], prediction[1:24]))\n",
    "print(rmse)"
   ]
  },
  {
   "cell_type": "code",
   "execution_count": null,
   "id": "0e7511f8",
   "metadata": {},
   "outputs": [],
   "source": [
    "rmse = sqrt(mean_squared_error(Y_test[1:36], prediction[1:36]))\n",
    "print(rmse)"
   ]
  },
  {
   "cell_type": "code",
   "execution_count": null,
   "id": "83d57edd",
   "metadata": {},
   "outputs": [],
   "source": [
    "rmse = sqrt(mean_squared_error(Y_test[1:48], prediction[1:48]))\n",
    "print(rmse)"
   ]
  },
  {
   "cell_type": "code",
   "execution_count": null,
   "id": "1c47c579",
   "metadata": {},
   "outputs": [],
   "source": []
  },
  {
   "cell_type": "code",
   "execution_count": null,
   "id": "e0b5f696",
   "metadata": {},
   "outputs": [],
   "source": [
    "predictionInverse = sc.inverse_transform(prediction)\n",
    "Y_testInverse = sc.inverse_transform(Y_test)"
   ]
  },
  {
   "cell_type": "code",
   "execution_count": null,
   "id": "1bdc39e8",
   "metadata": {},
   "outputs": [],
   "source": [
    "combinedArray = np.column_stack((Y_testInverse[0:48],predictionInverse[0:48]))\n",
    "print(\"Actual PM2.5   Predicted PM2.5\")\n",
    "s = [[str(e) for e in row] for row in np.around(combinedArray, 2)]\n",
    "lens = [max(map(len, col)) for col in zip(*s)]\n",
    "fmt = '\\t'.join('{{:{}}}'.format(x) for x in lens)\n",
    "table = [fmt.format(*row) for row in s]\n",
    "print ('\\n'.join(table))"
   ]
  }
 ],
 "metadata": {
  "kernelspec": {
   "display_name": "Python 3 (ipykernel)",
   "language": "python",
   "name": "python3"
  },
  "language_info": {
   "codemirror_mode": {
    "name": "ipython",
    "version": 3
   },
   "file_extension": ".py",
   "mimetype": "text/x-python",
   "name": "python",
   "nbconvert_exporter": "python",
   "pygments_lexer": "ipython3",
   "version": "3.9.7"
  }
 },
 "nbformat": 4,
 "nbformat_minor": 5
}
