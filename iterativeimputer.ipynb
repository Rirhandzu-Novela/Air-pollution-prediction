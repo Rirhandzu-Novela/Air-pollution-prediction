{
 "cells": [
  {
   "cell_type": "code",
   "execution_count": null,
   "id": "9371d41b",
   "metadata": {},
   "outputs": [],
   "source": [
    "https://www.kaggle.com/code/krishanth4/iterative-imputer-sklearn-trials"
   ]
  },
  {
   "cell_type": "code",
   "execution_count": null,
   "id": "8339a773",
   "metadata": {},
   "outputs": [],
   "source": [
    "import numpy as np # linear algebra\n",
    "import pandas as pd # data processing, CSV file I/O (e.g. pd.read_csv)\n",
    "import matplotlib.pyplot as plt\n",
    "import seaborn as sns\n",
    "from sklearn.experimental import enable_iterative_imputer  \n",
    "from sklearn.impute import IterativeImputer\n",
    "from sklearn.metrics import mean_squared_error\n",
    "from scipy import stats"
   ]
  },
  {
   "cell_type": "code",
   "execution_count": null,
   "id": "6cc6758f",
   "metadata": {},
   "outputs": [],
   "source": [
    "data = pd.read_csv('../../kaggle/input/electric-motor-temperature/pmsm_temperature_data.csv')"
   ]
  },
  {
   "cell_type": "code",
   "execution_count": null,
   "id": "6c4cfc45",
   "metadata": {},
   "outputs": [],
   "source": [
    "data.head()"
   ]
  },
  {
   "cell_type": "code",
   "execution_count": null,
   "id": "76d22e6d",
   "metadata": {},
   "outputs": [],
   "source": [
    "data.describe()"
   ]
  },
  {
   "cell_type": "code",
   "execution_count": null,
   "id": "89dd03ba",
   "metadata": {},
   "outputs": [],
   "source": [
    "df = data.copy()"
   ]
  },
  {
   "cell_type": "code",
   "execution_count": null,
   "id": "1bcd8980",
   "metadata": {},
   "outputs": [],
   "source": [
    "def defile_dataset(df, col_selection_rate=0.40):\n",
    "    cols = np.random.choice(df.columns, int(len(df.columns)*col_selection_rate))\n",
    "    df_cp = df.copy()\n",
    "    for col in cols:\n",
    "        data_drop_rate = np.random.choice(np.arange(0.15, 0.5, 0.02), 1)[0]\n",
    "        drop_ind = np.random.choice(np.arange(len(df_cp[col])), size=int(len(df_cp[col])*data_drop_rate), replace=False)\n",
    "        df_cp[col].iloc[drop_ind] = np.nan\n",
    "    return df_cp, cols"
   ]
  },
  {
   "cell_type": "code",
   "execution_count": null,
   "id": "d64a84e5",
   "metadata": {},
   "outputs": [],
   "source": [
    "df_mod, cols = defile_dataset(df)"
   ]
  },
  {
   "cell_type": "code",
   "execution_count": null,
   "id": "2a97dd2e",
   "metadata": {},
   "outputs": [],
   "source": [
    "df_mod.info()"
   ]
  },
  {
   "cell_type": "code",
   "execution_count": null,
   "id": "1f7b9e4b",
   "metadata": {},
   "outputs": [],
   "source": [
    "imputer = IterativeImputer(sample_posterior=True)\n",
    "imputer_non = IterativeImputer()"
   ]
  },
  {
   "cell_type": "code",
   "execution_count": null,
   "id": "057f0cff",
   "metadata": {},
   "outputs": [],
   "source": [
    "df1 = df_mod.copy()\n",
    "df2 = df_mod.copy()"
   ]
  },
  {
   "cell_type": "code",
   "execution_count": null,
   "id": "48abe2ff",
   "metadata": {},
   "outputs": [],
   "source": [
    "imputer.get_params()"
   ]
  },
  {
   "cell_type": "code",
   "execution_count": null,
   "id": "60491a3f",
   "metadata": {},
   "outputs": [],
   "source": [
    "df_mod_fit_non = imputer_non.fit_transform(df2)"
   ]
  },
  {
   "cell_type": "code",
   "execution_count": null,
   "id": "84993c88",
   "metadata": {},
   "outputs": [],
   "source": [
    "df_mod_fit.shape"
   ]
  },
  {
   "cell_type": "code",
   "execution_count": null,
   "id": "ed6c2d5d",
   "metadata": {},
   "outputs": [],
   "source": [
    "df_fit_np = df_mod_fit[:,[df.columns.get_loc(i) for i in cols]]"
   ]
  },
  {
   "cell_type": "code",
   "execution_count": null,
   "id": "4e97a608",
   "metadata": {},
   "outputs": [],
   "source": [
    "df_fit_non_np = df_mod_fit_non[:,[df.columns.get_loc(i) for i in cols]]"
   ]
  },
  {
   "cell_type": "code",
   "execution_count": null,
   "id": "69053605",
   "metadata": {},
   "outputs": [],
   "source": [
    "pd.DataFrame(df_fit_non_np, columns=cols)"
   ]
  },
  {
   "cell_type": "code",
   "execution_count": null,
   "id": "c72db00a",
   "metadata": {},
   "outputs": [],
   "source": [
    "df_np = df[cols].values"
   ]
  },
  {
   "cell_type": "code",
   "execution_count": null,
   "id": "b083ef11",
   "metadata": {},
   "outputs": [],
   "source": [
    "print(df_fit_np.shape)\n",
    "print(df_np.shape)"
   ]
  },
  {
   "cell_type": "code",
   "execution_count": null,
   "id": "8a9dfb39",
   "metadata": {},
   "outputs": [],
   "source": [
    "print(np.std(df_np, axis=0))\n",
    "print(np.std(df_fit_non_np, axis=0))"
   ]
  },
  {
   "cell_type": "code",
   "execution_count": null,
   "id": "f8722b4f",
   "metadata": {},
   "outputs": [],
   "source": [
    "print(stats.sem(df_np, axis=0))\n",
    "print(stats.sem(df_fit_non_np, axis=0))"
   ]
  },
  {
   "cell_type": "code",
   "execution_count": null,
   "id": "aa31e702",
   "metadata": {},
   "outputs": [],
   "source": [
    "def impute(df_orig):\n",
    "    df_miss, cols = defile_dataset(df_orig)\n",
    "    df_orig_slice = df_orig[cols]\n",
    "    imputed_data = []\n",
    "    n_iterations = []\n",
    "    for i in range(10):\n",
    "        imputer = IterativeImputer(max_iter=(i+1)*10)\n",
    "        df_stg = df_miss.copy()\n",
    "        imp_arr = imputer.fit_transform(df_stg)\n",
    "        n_iterations.append(imputer.n_iter_)\n",
    "        imp_arr_sl = imp_arr[:,[df_orig.columns.get_loc(i) for i in cols]]\n",
    "        imputed_data.append(pd.DataFrame(imp_arr_sl, columns=cols))\n",
    "    return df_orig_slice, imputed_data, n_iterations"
   ]
  },
  {
   "cell_type": "code",
   "execution_count": null,
   "id": "5aecb568",
   "metadata": {},
   "outputs": [],
   "source": [
    "def impute_once(df_orig):\n",
    "    df_miss, cols = defile_dataset(df_orig)\n",
    "    df_orig_slice = df_orig[cols]\n",
    "    imputer = IterativeImputer(max_iter=100)\n",
    "    df_stg = df_miss.copy()\n",
    "    imp_arr = imputer.fit_transform(df_stg)\n",
    "    return df_orig_slice, df_miss[cols], pd.DataFrame(imp_arr[:,[df_orig.columns.get_loc(i) for i in cols]], columns=cols), imputer.n_iter_"
   ]
  },
  {
   "cell_type": "code",
   "execution_count": null,
   "id": "c22d4b27",
   "metadata": {},
   "outputs": [],
   "source": [
    "df_orig, imp_data, n_iter = impute(df)"
   ]
  },
  {
   "cell_type": "code",
   "execution_count": null,
   "id": "9938409a",
   "metadata": {},
   "outputs": [],
   "source": [
    "df_orig.head()"
   ]
  },
  {
   "cell_type": "code",
   "execution_count": null,
   "id": "d014b8d2",
   "metadata": {},
   "outputs": [],
   "source": [
    "len(imp_data)"
   ]
  },
  {
   "cell_type": "code",
   "execution_count": null,
   "id": "c3ad93bf",
   "metadata": {},
   "outputs": [],
   "source": [
    "cols = df_orig.columns"
   ]
  },
  {
   "cell_type": "code",
   "execution_count": null,
   "id": "89a4b086",
   "metadata": {},
   "outputs": [],
   "source": [
    "imp_data[0][cols[0]]"
   ]
  },
  {
   "cell_type": "code",
   "execution_count": null,
   "id": "f6a5e6db",
   "metadata": {},
   "outputs": [],
   "source": [
    "n_iter"
   ]
  },
  {
   "cell_type": "code",
   "execution_count": null,
   "id": "406d1dd1",
   "metadata": {},
   "outputs": [],
   "source": [
    "fig, axes = plt.subplots(len(cols), sharex=True, figsize=(6,6), dpi=120)\n",
    "for i in range(len(cols)):\n",
    "    bars = []\n",
    "    for j in range(len(imp_data)):\n",
    "        bars.append(mean_squared_error(df_orig[cols[i]], imp_data[j][cols[i]])) \n",
    "    axes[i].bar(np.arange(10), bars, color='white', width=0.6, edgecolor='k', linewidth=1)\n",
    "    axes[i].set_ylim([0,0.2])\n",
    "    axes[i].set_yticks([])\n",
    "    for k in range(len(imp_data)):\n",
    "        axes[i].text(k-0.2, bars[k]+0.01, round(bars[k], 3), fontsize=6)\n",
    "    axes[i].set_title(str(cols[i]))\n",
    "fig.tight_layout()\n",
    "plt.show()"
   ]
  },
  {
   "cell_type": "code",
   "execution_count": null,
   "id": "01feb5e3",
   "metadata": {},
   "outputs": [],
   "source": [
    "pd.DataFrame(imp_data[0].stack()).reset_index()"
   ]
  },
  {
   "cell_type": "code",
   "execution_count": null,
   "id": "9449c1c3",
   "metadata": {},
   "outputs": [],
   "source": [
    "df_og, df_def, df_imp, n_iter = impute_once(df)"
   ]
  },
  {
   "cell_type": "code",
   "execution_count": null,
   "id": "2fca325a",
   "metadata": {},
   "outputs": [],
   "source": [
    "print(df_og.columns)\n",
    "print(df_imp.columns)\n",
    "print(n_iter)"
   ]
  },
  {
   "cell_type": "code",
   "execution_count": null,
   "id": "4e0501df",
   "metadata": {},
   "outputs": [],
   "source": [
    "for i in range(len(df_og.columns)):\n",
    "    print(\"Iterative Imputer: MSE for {} is {:.4f}.\".format(df_og.columns[i], mean_squared_error(df_og[df_og.columns[i]], df_imp[df_imp.columns[i]])))"
   ]
  },
  {
   "cell_type": "code",
   "execution_count": null,
   "id": "96bf32a3",
   "metadata": {},
   "outputs": [],
   "source": [
    "df_def = df_def[df_og.columns]"
   ]
  },
  {
   "cell_type": "code",
   "execution_count": null,
   "id": "b9830b71",
   "metadata": {},
   "outputs": [],
   "source": []
  }
 ],
 "metadata": {
  "kernelspec": {
   "display_name": "Python 3 (ipykernel)",
   "language": "python",
   "name": "python3"
  },
  "language_info": {
   "codemirror_mode": {
    "name": "ipython",
    "version": 3
   },
   "file_extension": ".py",
   "mimetype": "text/x-python",
   "name": "python",
   "nbconvert_exporter": "python",
   "pygments_lexer": "ipython3",
   "version": "3.9.7"
  }
 },
 "nbformat": 4,
 "nbformat_minor": 5
}
